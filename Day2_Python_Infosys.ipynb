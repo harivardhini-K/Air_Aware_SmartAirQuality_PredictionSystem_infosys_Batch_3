{
 "cells": [
  {
   "cell_type": "code",
   "execution_count": 1,
   "id": "a34efc5a-10cf-451d-9c30-bae708d25d51",
   "metadata": {},
   "outputs": [
    {
     "name": "stdout",
     "output_type": "stream",
     "text": [
      "Ajay\n"
     ]
    }
   ],
   "source": [
    "print('Ajay')\n"
   ]
  },
  {
   "cell_type": "code",
   "execution_count": 2,
   "id": "df7ec4ea-b4e0-4db8-8613-5345472266b6",
   "metadata": {},
   "outputs": [
    {
     "data": {
      "text/plain": [
       "'Sita'"
      ]
     },
     "execution_count": 2,
     "metadata": {},
     "output_type": "execute_result"
    }
   ],
   "source": [
    "name='Sita'\n",
    "name\n"
   ]
  },
  {
   "cell_type": "code",
   "execution_count": 4,
   "id": "b7984cee-ab5e-4f01-a5a3-95d989bfcc4b",
   "metadata": {},
   "outputs": [
    {
     "name": "stdout",
     "output_type": "stream",
     "text": [
      "<class 'int'>\n",
      "<class 'str'>\n",
      "<class 'float'>\n"
     ]
    }
   ],
   "source": [
    "company='Apple'\n",
    "age=17\n",
    "Percentage=97.2\n",
    "print(type(age))\n",
    "print(type(company))\n",
    "print(type(Percentage))\n"
   ]
  },
  {
   "cell_type": "code",
   "execution_count": 6,
   "id": "a5217ad1-12f4-4787-aafd-ea2bade28fbb",
   "metadata": {},
   "outputs": [
    {
     "data": {
      "text/plain": [
       "2633207710448"
      ]
     },
     "execution_count": 6,
     "metadata": {},
     "output_type": "execute_result"
    }
   ],
   "source": [
    "id(age) #gives address of variable 'age'"
   ]
  },
  {
   "cell_type": "code",
   "execution_count": 10,
   "id": "9d14adc1-82e4-490a-8c1d-bb07b423e65f",
   "metadata": {},
   "outputs": [
    {
     "data": {
      "text/plain": [
       "'m'"
      ]
     },
     "execution_count": 10,
     "metadata": {},
     "output_type": "execute_result"
    }
   ],
   "source": [
    "k='Tirumala'\n",
    "k[4] #indexing  "
   ]
  },
  {
   "cell_type": "code",
   "execution_count": 11,
   "id": "eb7d24f7-c929-4886-97da-23e3ecbb8b63",
   "metadata": {},
   "outputs": [
    {
     "data": {
      "text/plain": [
       "'mala'"
      ]
     },
     "execution_count": 11,
     "metadata": {},
     "output_type": "execute_result"
    }
   ],
   "source": [
    "k[4:8] #range \n"
   ]
  },
  {
   "cell_type": "code",
   "execution_count": 3,
   "id": "99813ac4-8242-404e-88cb-1e151b2a09ff",
   "metadata": {},
   "outputs": [
    {
     "name": "stdout",
     "output_type": "stream",
     "text": [
      "Decimal Integer: 88\n",
      "Positive Integer: 100\n",
      "Negative Integer: -44\n",
      "Binary:  10\n",
      "Octal Number: 42\n",
      "Hexadecimal Number: 43\n",
      "Float:  8.84\n",
      "Hexadecimal Number: 43\n",
      "Boolean True : 1\n",
      "Boolean  False : 0\n",
      "True\n"
     ]
    }
   ],
   "source": [
    "#TASK:1--codes for 1.numeric, 2.integer(Positive,Negative, Binary,Octal,Hexadecimal),3.Float, 4.Boolean(True,False)\n",
    "number=88\n",
    "print(\"Decimal Integer:\" ,number)\n",
    "Positive=100\n",
    "Negative=-44\n",
    "print(\"Positive Integer:\",Positive)\n",
    "print(\"Negative Integer:\",Negative)\n",
    "bin=0b1010\n",
    "print(\"Binary: \",bin)\n",
    "Octal=0o52\n",
    "print(\"Octal Number:\",Octal)\n",
    "Hexa=0x2B\n",
    "print(\"Hexadecimal Number:\",Hexa)\n",
    "F=8.84\n",
    "print(\"Float: \",F)\n",
    "Value1=1\n",
    "Value2=0\n",
    "print(\"Hexadecimal Number:\",Hexa)\n",
    "print(\"Boolean True :\",Value1)\n",
    "print(\"Boolean  False :\",Value2)\n",
    "is_bool=88 \n",
    "print(bool(is_bool))"
   ]
  },
  {
   "cell_type": "code",
   "execution_count": 8,
   "id": "808f0fef-c9a6-49d1-8e62-7a0dae2fe455",
   "metadata": {},
   "outputs": [
    {
     "name": "stdout",
     "output_type": "stream",
     "text": [
      "105\n",
      "55\n",
      "2000\n",
      "3.2\n",
      "5\n",
      "3\n",
      "64\n"
     ]
    }
   ],
   "source": [
    "#Task 2:Code for all Arithmetic Operators(+,-,*,/,//)\n",
    "a=80\n",
    "b=25\n",
    "add=a+b\n",
    "sub=a-b\n",
    "mul=a*b\n",
    "div=a/b\n",
    "modulus=a%b #remainder\n",
    "floordiv=a//b\n",
    "exponential=4**3\n",
    "print(add)\n",
    "print(sub)\n",
    "print(mul)\n",
    "print(div)\n",
    "print(modulus)\n",
    "print(floordiv)\n",
    "print(exponential)\n"
   ]
  },
  {
   "cell_type": "code",
   "execution_count": 31,
   "id": "7664b509-8a54-489c-8be9-f1b065b90fd1",
   "metadata": {},
   "outputs": [
    {
     "name": "stdout",
     "output_type": "stream",
     "text": [
      "Hello Ajay!Welcome to Infosys Internship.\n",
      "Hello Ajay!Hello Ajay!Hello Ajay!\n",
      "a\n",
      "Ajay\n",
      "Ajay in string1: True\n",
      "to in String2: True\n",
      "Raj in string1: False\n",
      "INFOSYS not in string1: True\n",
      "string1==String2 is: False\n",
      "string1!=String2 is: True\n",
      "string1>=String2 is: False\n",
      "string1<=String2 is: True\n"
     ]
    }
   ],
   "source": [
    "#Task 3:String Operators-----\n",
    "\"\"\"1.Concatenation(+)\n",
    "2.Repetition(*)\n",
    "3.Slice[]\n",
    "4.Range Slice[]\n",
    "5.In Membership\n",
    "6.Not in membership\"\"\"\n",
    "string1=\"Hello Ajay!\"\n",
    "String2=\"Welcome to Infosys Internship.\"\n",
    "print(string1+String2) #Concatenation or(string1,string2)\n",
    "print(string1*3) #Repetition\n",
    "print(string1[8]) #Slicing\n",
    "print(string1[6:10]) #Range Slicing\n",
    "print(\"Ajay in string1:\",\"Ajay\" in string1) #in membership\n",
    "print(\"to in String2:\",\"to\" in String2)\n",
    "print(\"Raj in string1:\",\"Raj\" in string1) \n",
    "print(\"INFOSYS not in string1:\",\"INFOSYS\" not in String2) #not in membership\n",
    "print(\"string1==String2 is:\",string1==String2) #isequal operator\n",
    "print(\"string1!=String2 is:\",string1!=String2) #notequal\n",
    "print(\"string1>=String2 is:\",string1>=String2) #greater than\n",
    "print(\"string1<=String2 is:\",string1<=String2) #Lesser than\n"
   ]
  },
  {
   "cell_type": "code",
   "execution_count": null,
   "id": "b8873a28-b422-4f94-b7c5-be36ed8f59eb",
   "metadata": {},
   "outputs": [],
   "source": []
  }
 ],
 "metadata": {
  "kernelspec": {
   "display_name": "Python 3 (ipykernel)",
   "language": "python",
   "name": "python3"
  },
  "language_info": {
   "codemirror_mode": {
    "name": "ipython",
    "version": 3
   },
   "file_extension": ".py",
   "mimetype": "text/x-python",
   "name": "python",
   "nbconvert_exporter": "python",
   "pygments_lexer": "ipython3",
   "version": "3.10.9"
  }
 },
 "nbformat": 4,
 "nbformat_minor": 5
}
