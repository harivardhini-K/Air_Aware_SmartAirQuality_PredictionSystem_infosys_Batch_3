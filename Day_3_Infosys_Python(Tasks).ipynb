{
 "cells": [
  {
   "cell_type": "code",
   "execution_count": 11,
   "id": "e97b653c-2df9-4953-b648-2fcdd4a57fa4",
   "metadata": {},
   "outputs": [
    {
     "name": "stdin",
     "output_type": "stream",
     "text": [
      "Enter your name:  ajay\n",
      "Enter the college name:  svce\n",
      "Enter the year of study:  4\n",
      "Enter the Percentage: 98.456\n"
     ]
    },
    {
     "name": "stdout",
     "output_type": "stream",
     "text": [
      "NAME:  ajay ,COLLEGE:  svce , YEAR:  4 , PERCENTAGE: 98.456\n",
      "NAME: ajay, COLLEGE: svce, YEAR: 4, PERCENTAGE:98.456\n",
      "NAME: ajay,COLLEGE: svce, YEAR:4, PERCENTAGE:98.46\n",
      "NAME:ajay,COLLEGE:svce, YEAR:4, PERCENTAGE:98.46\n",
      "NAME: ajay,COLLEGE: svce, YEAR: 4,PERCENTAGE: 98.46\n"
     ]
    }
   ],
   "source": [
    "#Task1:Write a code to create google form which has all data types using input command-giving user input at runtime.\n",
    "\"\"\"Using all 5 methods:coma,+,%,.format, f string\"\"\"\n",
    "Name=input(\"Enter your name: \")\n",
    "College=input(\"Enter the college name: \")\n",
    "Year=int(input(\"Enter the year of study: \"))\n",
    "Percentage=float(input(\"Enter the Percentage:\"))\n",
    "print(\"NAME: \",Name,\",COLLEGE: \",College, \", YEAR: \",Year,\", PERCENTAGE:\",Percentage) #using Comma\n",
    "print(\"NAME: \"+Name+\", COLLEGE: \"+College+ \", YEAR: \"+str(Year)+\", PERCENTAGE:\"+str(Percentage)) #using Plus\n",
    "print(\"NAME: %s,COLLEGE: %s, YEAR:%d, PERCENTAGE:%.2f\" %(Name,College,Year,Percentage)) #using % formatting\n",
    "print(\"NAME: {}, COLLEGE:{}, YEAR:{}, PERCENTAGE:{:.2f}\".format(Name,College,Year,Percentage)) #using dot formatting\n",
    "print(f\"NAME: {Name},COLLEGE: {College}, YEAR: {Year},PERCENTAGE: {Percentage:.2f}\") #using f string"
   ]
  },
  {
   "cell_type": "code",
   "execution_count": 12,
   "id": "e8a86f50-a680-4fb3-90c6-06734d844b59",
   "metadata": {},
   "outputs": [
    {
     "name": "stdout",
     "output_type": "stream",
     "text": [
      "RAMA KRISHNA\n",
      "35\n",
      "['RAMA KRISHNA', 'Male', '6.2', '35', 'Indian', 'Asia']\n",
      "['RAMA KRISHNA', 'Lakshman', 'Male', '6.2', '35', 'Indian', 'Asia']\n",
      "['RAMA KRISHNA', 'Lakshman', 'Male', '6.2', '35', 'Indian']\n",
      "6.2\n",
      "['RAMA KRISHNA', 'Lakshman', 'Male', '35', 'Indian']\n",
      "1\n",
      "4\n"
     ]
    }
   ],
   "source": [
    "#Task2: Functions Manupulating Lists only\n",
    "Data=['RAMA KRISHNA','Male','6.2','35','Indian']\n",
    "#max(Data)\n",
    "#min(Data)\n",
    "print(max(Data))\n",
    "print(min(Data))\n",
    "Data.append('Asia') #Adds at end of the list\n",
    "print(Data)\n",
    "Data.insert(1,'Lakshman') #insert according to index position\n",
    "print(Data)\n",
    "Data.pop() #Removes last element\n",
    "print(Data)\n",
    "print(Data[3]) #Accessing through Index\n",
    "Data[2:6] #Range Slicing\n",
    "Data.remove(\"6.2\") #Removes the element from the list\n",
    "print(Data)\n",
    "print(Data.count('35')) #Counts the repetition\n",
    "print(Data.index('Indian')) #Index position of an element"
   ]
  },
  {
   "cell_type": "code",
   "execution_count": 20,
   "id": "745ed160-4fc2-439b-8613-0bd633c5f513",
   "metadata": {},
   "outputs": [
    {
     "name": "stdout",
     "output_type": "stream",
     "text": [
      "dict_keys([1, 2, 3, 4])\n",
      "dict_values(['INDIA', 'AMERICA', 'China', 'Japan'])\n",
      "dict_items([(1, 'INDIA'), (2, 'AMERICA'), (3, 'China'), (4, 'Japan')])\n",
      "Japan\n"
     ]
    },
    {
     "data": {
      "text/plain": [
       "'China'"
      ]
     },
     "execution_count": 20,
     "metadata": {},
     "output_type": "execute_result"
    }
   ],
   "source": [
    "#Task3: Builtin Functions for DICTIONARY\n",
    "dict={1:\"INDIA\",2:\"AMERICA\",3:\"China\",4:\"Japan\"}\n",
    "print(dict.keys()) #Accessing keys\n",
    "print(dict.values()) #Accessing Values\n",
    "print(dict.items()) #Accessing both keys and values\n",
    "print(dict.get(4)) #Using get method\n",
    "dict[3] #Accessing through keys"
   ]
  },
  {
   "cell_type": "code",
   "execution_count": 35,
   "id": "066b34a6-0a02-4bdf-aa1c-7fdcd0593c64",
   "metadata": {},
   "outputs": [
    {
     "name": "stdout",
     "output_type": "stream",
     "text": [
      "{'Paris', 'C', 'JAVA', 'C++'}\n",
      "{'R', 'C++', 'H', 'L', 'E', 'A', 'N', 'J', 'S', 'D', 'C', ' ', 'Paris', 'JAVA', 'O', 'P', 'W', 'G'}\n",
      "{'R', 'C++', 'H', 'L', 'E', 'A', 'N', 'J', 'S', 'D', 'C', ' ', 'Paris', 'JAVA', 'O', 'P', 'W', 'G'}\n",
      "{'Paris', 'C', 'C++'}\n",
      "None\n",
      "set()\n"
     ]
    }
   ],
   "source": [
    "#Task4: Functions to modify set\n",
    "a={\"C\",\"Paris\",\"C++\"}\n",
    "b=a.copy()\n",
    "a.add(\"JAVA\")\n",
    "print(a)\n",
    "a.update(\"DJANGO\",\"POWER SHELL\")\n",
    "print(a)\n",
    "a.discard(\"RAM\") #Doesn't show any error for an item is not presented in list\n",
    "#a.remove(\"RAM\") --Shows error if item is not present\n",
    "print(a)\n",
    "print(b)\n",
    "print(a.clear()) #made set empty\n",
    "print(a)"
   ]
  },
  {
   "cell_type": "code",
   "execution_count": 41,
   "id": "2f5d3e21-269e-4936-81d6-97620360bd1e",
   "metadata": {},
   "outputs": [
    {
     "name": "stdout",
     "output_type": "stream",
     "text": [
      "{1, 2, 'Ganga', 3, 4, 5, 'Bay of Bengal', 'Atlantic', 6, 7, 'Narmada', 'Krishna', 'Godavari', 'Yamuna', 'Pecific'}\n",
      "{1, 2, 3}\n",
      "{'Ganga', 4, 5, 'Narmada', 'Krishna', 'Godavari', 'Yamuna'}\n",
      "{'Bay of Bengal', 'Atlantic', 6, 7, 'Pecific'}\n",
      "{'Bay of Bengal', 'Ganga', 'Atlantic', 6, 7, 4, 5, 'Narmada', 'Krishna', 'Godavari', 'Yamuna', 'Pecific'}\n",
      "{'Ganga', 4, 5, 'Bay of Bengal', 'Atlantic', 6, 7, 'Narmada', 'Krishna', 'Godavari', 'Yamuna', 'Pecific'}\n"
     ]
    }
   ],
   "source": [
    "#Task5:SET operations\n",
    "Rivers={\"Ganga\",\"Yamuna\",\"Narmada\",\"Godavari\",\"Krishna\",1,2,3,4,5}\n",
    "Oceans={\"Bay of Bengal\",\"Atlantic\",\"Pecific\",1,2,3,6,7}\n",
    "print(Rivers.union(Oceans))\n",
    "print(Rivers.intersection(Oceans)) \n",
    "print(Rivers.difference(Oceans))\n",
    "print(Oceans.difference(Rivers))\n",
    "print(Rivers.symmetric_difference(Oceans)) \n",
    "print(Oceans.symmetric_difference(Rivers))"
   ]
  },
  {
   "cell_type": "code",
   "execution_count": null,
   "id": "68c9208c-4622-4379-8213-1ba5395eecd8",
   "metadata": {},
   "outputs": [],
   "source": []
  }
 ],
 "metadata": {
  "kernelspec": {
   "display_name": "Python 3 (ipykernel)",
   "language": "python",
   "name": "python3"
  },
  "language_info": {
   "codemirror_mode": {
    "name": "ipython",
    "version": 3
   },
   "file_extension": ".py",
   "mimetype": "text/x-python",
   "name": "python",
   "nbconvert_exporter": "python",
   "pygments_lexer": "ipython3",
   "version": "3.10.9"
  }
 },
 "nbformat": 4,
 "nbformat_minor": 5
}
