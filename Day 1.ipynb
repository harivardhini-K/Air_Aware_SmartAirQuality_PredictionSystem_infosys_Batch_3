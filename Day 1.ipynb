{
 "cells": [
  {
   "cell_type": "code",
   "execution_count": 1,
   "id": "194a2cbd-354a-49e3-9095-a5b07b044e07",
   "metadata": {},
   "outputs": [],
   "source": [
    "# Task 1: Numeric types"
   ]
  },
  {
   "cell_type": "code",
   "execution_count": 5,
   "id": "3310e5b7-7bf9-472d-b354-d04dc8e843b7",
   "metadata": {},
   "outputs": [
    {
     "name": "stdout",
     "output_type": "stream",
     "text": [
      "Intergers:\n",
      "Positive: 25\n",
      "Negative: -10\n",
      "Binary: 10\n",
      "Octal: 10\n",
      "Hexadecimal: 10\n"
     ]
    }
   ],
   "source": [
    "# Integer (int)\n",
    "a = 25       # positive interger\n",
    "b = -10      # negative interger\n",
    "c = 0b1010   # Binary\n",
    "d = 0o12     # Octal\n",
    "e = 0xA      # Hexadecimal\n",
    "\n",
    "print(\"Intergers:\")\n",
    "print(\"Positive:\",a)\n",
    "print(\"Negative:\",b)\n",
    "print(\"Binary:\",c)\n",
    "print(\"Octal:\",d)\n",
    "print(\"Hexadecimal:\",e)\n"
   ]
  },
  {
   "cell_type": "code",
   "execution_count": 6,
   "id": "abe5a388-346d-4abb-b1d7-e83edf17317d",
   "metadata": {},
   "outputs": [
    {
     "name": "stdout",
     "output_type": "stream",
     "text": [
      "3.14\n",
      "-7.5\n",
      "1200.0\n"
     ]
    }
   ],
   "source": [
    "# Float\n",
    "num1 = 3.14\n",
    "num2 = -7.5\n",
    "num3 = 1.2e3    # scientific notation (1200.0)\n",
    "print(num1)\n",
    "print(num2)\n",
    "print(num3)"
   ]
  },
  {
   "cell_type": "code",
   "execution_count": 7,
   "id": "fa6f62d3-fe64-4102-9d0e-1bca3e5c0793",
   "metadata": {},
   "outputs": [
    {
     "name": "stdout",
     "output_type": "stream",
     "text": [
      "(2+3j)\n",
      "(2-3j)\n",
      "2.0\n",
      "-3.0\n"
     ]
    }
   ],
   "source": [
    "# Complex numbers\n",
    "complex_num1 = 2+3j\n",
    "complex_num2 = 2-3j\n",
    "print(complex_num1)\n",
    "print(complex_num2)\n",
    "print(complex_num1.real)\n",
    "print(complex_num2.imag)"
   ]
  },
  {
   "cell_type": "code",
   "execution_count": 8,
   "id": "6c0e3f06-2300-43dd-af07-4371d95d44fd",
   "metadata": {},
   "outputs": [
    {
     "name": "stdout",
     "output_type": "stream",
     "text": [
      "True\n",
      "False\n",
      "1 0\n"
     ]
    }
   ],
   "source": [
    "# Boolean (bool)\n",
    "bool_true = True\n",
    "bool_false = False\n",
    "print(bool_true)\n",
    "print(bool_false)\n",
    "print(int(bool_true) , int(bool_false))"
   ]
  },
  {
   "cell_type": "code",
   "execution_count": 9,
   "id": "bf404365-6047-4b2b-9789-d3f1d6299273",
   "metadata": {},
   "outputs": [],
   "source": [
    "# Task 2 : Arithmetic Operators"
   ]
  },
  {
   "cell_type": "code",
   "execution_count": 11,
   "id": "55e3ff9e-1338-4ed9-befb-ba9a5ee5f217",
   "metadata": {},
   "outputs": [
    {
     "name": "stdout",
     "output_type": "stream",
     "text": [
      "Addition (a+b): 19\n",
      "Subtraction (a-b): 11\n",
      "Multiplication (a * b): 60\n",
      "Division (a / b): 3.75\n",
      "Floor Division (a // b): 3\n",
      "Modulus (a % b): 3\n",
      "Exponentiation (a ** b): 50625\n"
     ]
    }
   ],
   "source": [
    "# Variables\n",
    "a = 15\n",
    "b = 4\n",
    "\n",
    "# Addition\n",
    "print(\"Addition (a+b):\", a+b)\n",
    "\n",
    "# Subtraction\n",
    "print(\"Subtraction (a-b):\", a-b)\n",
    "\n",
    "# Multiplication\n",
    "print(\"Multiplication (a * b):\", a * b)\n",
    "\n",
    "# Division\n",
    "print(\"Division (a / b):\", a / b)\n",
    "\n",
    "# Floor Division\n",
    "print(\"Floor Division (a // b):\", a // b)\n",
    "\n",
    "# Modulus \n",
    "print(\"Modulus (a % b):\", a % b)\n",
    "\n",
    "# Exponentiation \n",
    "print(\"Exponentiation (a ** b):\", a ** b)\n"
   ]
  },
  {
   "cell_type": "code",
   "execution_count": 12,
   "id": "f1f79cad-97e7-4ba9-a25d-d05a23b8a67c",
   "metadata": {},
   "outputs": [],
   "source": [
    "# String Methods"
   ]
  },
  {
   "cell_type": "code",
   "execution_count": 15,
   "id": "4e18111a-b358-47d8-a8ff-dcb16a4dd79b",
   "metadata": {},
   "outputs": [
    {
     "name": "stdout",
     "output_type": "stream",
     "text": [
      "Original String: 'Hello World! Welcome to Python.'\n",
      "Uppercase: HELLO WORLD! WELCOME TO PYTHON.\n",
      "Lowercase: hello world! welcome to python.\n",
      "Title Case: Hello World! Welcome To Python.\n",
      "Strip: Hello World! Welcome to Python.\n",
      "Hello Universe! Welcome to Python.\n",
      "13\n",
      "['Hello', 'World!', 'Welcome', 'to', 'Python.']\n"
     ]
    }
   ],
   "source": [
    "text = \"Hello World! Welcome to Python.\"\n",
    "print(\"Original String:\" , repr(text))\n",
    "print(\"Uppercase:\" , text.upper())  #Convert to uppercase\n",
    "print(\"Lowercase:\" , text.lower()) # convert to lowercase\n",
    "print(\"Title Case:\" , text.title()) #convert to title case\n",
    "print(\"Strip:\" , text.strip()) \n",
    "print(text.replace(\"World\", \"Universe\"))   # replace substring\n",
    "print(text.find(\"Welcome\"))                #  find substring postion\n",
    "print(text.split())                        #  split string into list"
   ]
  },
  {
   "cell_type": "code",
   "execution_count": 16,
   "id": "cf288b87-a9d7-4f86-be61-b5ced1384d98",
   "metadata": {},
   "outputs": [
    {
     "name": "stdout",
     "output_type": "stream",
     "text": [
      "Join with: Python-is-fun\n"
     ]
    }
   ],
   "source": [
    "# Join list into string\n",
    "words = [\"Python\", \"is\", \"fun\"]\n",
    "print(\"Join with:\", \"-\".join(words))\n"
   ]
  },
  {
   "cell_type": "code",
   "execution_count": 17,
   "id": "fa3ad65e-3333-4f6a-9ef2-0ab15a72503f",
   "metadata": {},
   "outputs": [
    {
     "name": "stdout",
     "output_type": "stream",
     "text": [
      "Count of 'o': 5\n"
     ]
    }
   ],
   "source": [
    "# Count occurrences\n",
    "print(\"Count of 'o':\", text.count(\"o\"))\n"
   ]
  },
  {
   "cell_type": "code",
   "execution_count": 18,
   "id": "f0f4af8e-5722-44c3-933a-f95242c6ec18",
   "metadata": {},
   "outputs": [
    {
     "name": "stdout",
     "output_type": "stream",
     "text": [
      "True\n",
      "True\n"
     ]
    }
   ],
   "source": [
    "# Check prefix and suffix \n",
    "print(text.strip().startswith(\"Hello\"))\n",
    "print(text.strip().endswith(\"Python.\"))"
   ]
  },
  {
   "cell_type": "code",
   "execution_count": 19,
   "id": "c012e304-8d82-455e-86fd-ac323519ae76",
   "metadata": {},
   "outputs": [
    {
     "name": "stdout",
     "output_type": "stream",
     "text": [
      "True\n",
      "True\n",
      "True\n"
     ]
    }
   ],
   "source": [
    "# Check the type of string\n",
    "print(\"Hello\".isalpha())\n",
    "print(\"12345\".isnumeric())\n",
    "print(\"Hello123\".isalnum())\n"
   ]
  },
  {
   "cell_type": "code",
   "execution_count": 20,
   "id": "83925224-7d85-4224-bb59-bcec72e4ffcf",
   "metadata": {},
   "outputs": [],
   "source": [
    "# Task 4: String Operators\n"
   ]
  },
  {
   "cell_type": "code",
   "execution_count": 21,
   "id": "36ad3cd2-4f99-47b2-97a4-2e62773b85e1",
   "metadata": {},
   "outputs": [
    {
     "name": "stdout",
     "output_type": "stream",
     "text": [
      "Concatenation (str1 + ' ' + str2): Hello World\n",
      "Repetition (str1 * 3): HelloHelloHello\n",
      "Indexing (str1[1]): e\n",
      "Slicing (str1[1:4]): ell\n"
     ]
    }
   ],
   "source": [
    "str1 = \"Hello\"\n",
    "str2 = \"World\"\n",
    "\n",
    "# Concatenation (+)\n",
    "print(\"Concatenation (str1 + ' ' + str2):\", str1 + \" \" + str2)\n",
    "\n",
    "# Repetition (*)\n",
    "print(\"Repetition (str1 * 3):\", str1 * 3)\n",
    "\n",
    "# Indexing\n",
    "print(\"Indexing (str1[1]):\", str1[1])   # 'e'\n",
    "\n",
    "# Slicing\n",
    "print(\"Slicing (str1[1:4]):\", str1[1:4])  # 'ell'\n"
   ]
  },
  {
   "cell_type": "code",
   "execution_count": 23,
   "id": "ef1eb9a4-cd33-4273-ba39-d5f62fab569a",
   "metadata": {},
   "outputs": [
    {
     "name": "stdout",
     "output_type": "stream",
     "text": [
      "True\n",
      "True\n"
     ]
    }
   ],
   "source": [
    "# Membership (in / not in)\n",
    "print('e' in str1)\n",
    "print('a' not in str1)\n"
   ]
  },
  {
   "cell_type": "code",
   "execution_count": null,
   "id": "3b9d784d-89d5-41a8-a5b2-75ab86ca1705",
   "metadata": {},
   "outputs": [],
   "source": []
  }
 ],
 "metadata": {
  "kernelspec": {
   "display_name": "Python 3 (ipykernel)",
   "language": "python",
   "name": "python3"
  },
  "language_info": {
   "codemirror_mode": {
    "name": "ipython",
    "version": 3
   },
   "file_extension": ".py",
   "mimetype": "text/x-python",
   "name": "python",
   "nbconvert_exporter": "python",
   "pygments_lexer": "ipython3",
   "version": "3.11.4"
  }
 },
 "nbformat": 4,
 "nbformat_minor": 5
}
