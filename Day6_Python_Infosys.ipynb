{
 "cells": [
  {
   "cell_type": "code",
   "execution_count": 20,
   "id": "61d3195f-1dc5-465b-b5f9-7daae9626730",
   "metadata": {},
   "outputs": [
    {
     "name": "stdin",
     "output_type": "stream",
     "text": [
      "Enter first number:  25\n",
      "Enter second number:  5\n"
     ]
    },
    {
     "name": "stdout",
     "output_type": "stream",
     "text": [
      "\n",
      "Select operation:\n",
      "1. Add\n",
      "2. Subtract\n",
      "3. Multiply\n",
      "4. Divide\n"
     ]
    },
    {
     "name": "stdin",
     "output_type": "stream",
     "text": [
      "Enter choice (1/2/3/4):  4\n"
     ]
    },
    {
     "name": "stdout",
     "output_type": "stream",
     "text": [
      "\n",
      "Division Result: 5.0\n"
     ]
    }
   ],
   "source": [
    "#Task1: Calculator using class and functions\n",
    "class Calculator:\n",
    "    def __init__(self, x, y):\n",
    "        self.x = x\n",
    "        self.y = y\n",
    "    def add(self):\n",
    "        return self.x + self.y\n",
    "\n",
    "    def subtract(self):\n",
    "        return self.x - self.y\n",
    "\n",
    "    def multiply(self):\n",
    "        return self.x * self.y\n",
    "\n",
    "    def divide(self):\n",
    "        if self.y == 0:\n",
    "            return \"Error: Division by zero is not allowed.\"\n",
    "        return self.x / self.y\n",
    "\n",
    "def run_Calci(): \n",
    "    try:\n",
    "        a = float(input(\"Enter first number: \"))\n",
    "        b = float(input(\"Enter second number: \"))\n",
    "    except ValueError:\n",
    "        print(\"Invalid input! Please enter a valid number.\")\n",
    "        return \n",
    "    calc = Calculator(a, b)\n",
    "    print(\"\\nSelect operation:\") \n",
    "    print(\"1. Add\")\n",
    "    print(\"2. Subtract\")\n",
    "    print(\"3. Multiply\")\n",
    "    print(\"4. Divide\")\n",
    "\n",
    "    choice = input(\"Enter choice (1/2/3/4): \")\n",
    "    result = None # Initialize result variable\n",
    "\n",
    "    if choice == '1':\n",
    "        result = calc.add()\n",
    "        operation = \"Addition\"\n",
    "    elif choice == '2':\n",
    "        result = calc.subtract()\n",
    "        operation = \"Subtraction\"\n",
    "    elif choice == '3':\n",
    "        result = calc.multiply()\n",
    "        operation = \"Multiplication\"\n",
    "    elif choice == '4':\n",
    "        result = calc.divide()\n",
    "        operation = \"Division\"\n",
    "    else:\n",
    "        print(\"Invalid choice! Please select a number between 1 and 4.\")\n",
    "        return \n",
    "   # if isinstance(result, str): isinstance--checks object type while running\n",
    "    #print(f\"\\n{result}\")\n",
    "   # else:\n",
    "    print(f\"\\n{operation} Result: {result}\")\n",
    "#if __name__ == \"__main__\":\n",
    "run_Calci()"
   ]
  },
  {
   "cell_type": "code",
   "execution_count": 32,
   "id": "77967f44-417d-4c41-8341-66f8ba9f5fad",
   "metadata": {},
   "outputs": [
    {
     "name": "stdout",
     "output_type": "stream",
     "text": [
      "Parent's Assets: House (Duplex), Bike (Royal Enfield)\n",
      "Parent class is printed successfully\n",
      "Parent's Assets: House (Bungalow), Bike (Harley Davidson)\n",
      "Child's New Asset: Car (Tesla)\n"
     ]
    }
   ],
   "source": [
    "#task2: write code for multiple, multilevel, hierarchical,hybrid\n",
    "#1.Single Level Inheritance\n",
    "class Parent():\n",
    "    def __init__(self,House,Bike):\n",
    "        self.House=House\n",
    "        self.Bike=Bike\n",
    "    def show_assets(self):\n",
    "        print(f\"Parent's Assets: House ({self.House}), Bike ({self.Bike})\")\n",
    "class Child1(Parent):\n",
    "        def __init__(self,House,Bike,Car):\n",
    "            super().__init__(House, Bike) \n",
    "            self.Car = Car # Adding new attribute\n",
    "        def show_all_assets(self):\n",
    "            self.show_assets() # Reuse the Parent's method\n",
    "            print(f\"Child's New Asset: Car ({self.Car})\")\n",
    "# Creating an instance\n",
    "obj1=Parent('Duplex','Royal Enfield')\n",
    "obj1.show_assets()\n",
    "print(f\"Parent class is printed successfully\")\n",
    "obj2 = Child1('Bungalow', 'Harley Davidson', 'Tesla')\n",
    "obj2.show_all_assets()\n"
   ]
  },
  {
   "cell_type": "code",
   "execution_count": 43,
   "id": "24be0bd9-e15a-4481-ae82-9b8605ebfa22",
   "metadata": {},
   "outputs": [
    {
     "name": "stdout",
     "output_type": "stream",
     "text": [
      "--- Inherited Gifts ---\n",
      "Mom's Assets: House=Duplex, Bike=Royal Enfield\n",
      "Dad's Assets: Money=10 Million, Car=Tesla Model S\n",
      "Child's New Gift: Watch=Rolex\n"
     ]
    }
   ],
   "source": [
    "#2.Multiple Inheritance\n",
    "class Mom:\n",
    "    def __init__(self, House, Bike):\n",
    "        self.House = House\n",
    "        self.Bike = Bike\n",
    "    \n",
    "    def mom_gift(self):\n",
    "        print(f\"Mom's Assets: House={self.House}, Bike={self.Bike}\")\n",
    "class Dad:\n",
    "    def __init__(self, Money, Car):\n",
    "        self.Money = Money\n",
    "        self.Car = Car\n",
    "    \n",
    "    def dad_gift(self):\n",
    "        print(f\"Dad's Assets: Money={self.Money}, Car={self.Car}\")\n",
    "\n",
    "class Child(Mom, Dad): \n",
    "    def __init__(self, House, Bike, Money, Car, Watch):\n",
    "        Mom.__init__(self, House, Bike)\n",
    "        Dad.__init__(self, Money, Car)\n",
    "        self.Watch = Watch\n",
    "\n",
    "    def show_all_gifts(self):\n",
    "        print(\"--- Inherited Gifts ---\")\n",
    "        self.mom_gift()\n",
    "        self.dad_gift()\n",
    "        print(f\"Child's New Gift: Watch={self.Watch}\")\n",
    "\n",
    "child_obj = Child('Duplex', 'Royal Enfield', '10 Million', 'Tesla Model S', 'Rolex')\n",
    "child_obj.show_all_gifts()"
   ]
  },
  {
   "cell_type": "code",
   "execution_count": 48,
   "id": "d1b18d80-3659-48ec-8647-1c1f1d5070e1",
   "metadata": {},
   "outputs": [
    {
     "name": "stdout",
     "output_type": "stream",
     "text": [
      "Grandparent's Assets: House (Duplex), Bike (Royal Enfield)\n",
      "Parent's Asset: Car=Rolls Royce\n",
      "Child2's New Asset: Watch=Rolex & Palace=Taj\n",
      "----Final Assets of Child are printed successfully\n"
     ]
    }
   ],
   "source": [
    "#3.Multilevel Inheritance\n",
    "class Grandparent():\n",
    "    def __init__(self,House,Bike):\n",
    "        self.House=House\n",
    "        self.Bike=Bike\n",
    "    def show_assets(self):\n",
    "        print(f\"Grandparent's Assets: House ({self.House}), Bike ({self.Bike})\")\n",
    "class Parent(Grandparent):\n",
    "        def __init__(self,House,Bike,Car):\n",
    "            super().__init__(House, Bike) \n",
    "            self.Car = Car # Adding new attribute\n",
    "        def assets_of_Parent(self):\n",
    "            self.show_assets() # Reuse the Parent's method\n",
    "            print(f\"Parent's Asset: Car={self.Car}\")\n",
    "class Child(Parent):\n",
    "    def __init__(self,House,Bike,Car,Watch,Palace):\n",
    "        super().__init__(House,Bike,Car)\n",
    "        self.Watch=Watch\n",
    "        self.Palace=Palace\n",
    "    def Total_assets_of_Child(self):\n",
    "            self.assets_of_Parent() # Reuse the Parent's method\n",
    "            print(f\"Child2's New Asset: Watch={self.Watch} & Palace={self.Palace}\")\n",
    "Child_Obj=Child(\"Duplex\",\"Royal Enfield\",'Rolls Royce','Rolex','Taj')\n",
    "Child_Obj.Total_assets_of_Child()\n",
    "print(\"----Final Assets of Child are printed successfully\")\n"
   ]
  },
  {
   "cell_type": "code",
   "execution_count": 38,
   "id": "4c451403-5f59-410b-ae68-5cdaed2c652f",
   "metadata": {},
   "outputs": [
    {
     "name": "stdout",
     "output_type": "stream",
     "text": [
      "Parent's Assets: House (Duplex), Bike (Royal Enfield)\n",
      "-----Parent class is printed successfully\n",
      "Parent's Assets: House (Bungalow), Bike (Harley Davidson)\n",
      "Child1's New Asset: Car=Tesla\n",
      "-----Child1 class is printed successfully------\n",
      "Parent's Assets: House (Villah), Bike (Suzuki)\n",
      "Child2's New Asset: Watch=Rolex\n",
      "-----Child2 class is printed successfully------\n"
     ]
    }
   ],
   "source": [
    "#4.Hierarchial-Inheritance\n",
    "class Parent():\n",
    "    def __init__(self,House,Bike):\n",
    "        self.House=House\n",
    "        self.Bike=Bike\n",
    "    def show_assets(self):\n",
    "        print(f\"Parent's Assets: House ({self.House}), Bike ({self.Bike})\")\n",
    "class Child1(Parent):\n",
    "        def __init__(self,House,Bike,Car):\n",
    "            super().__init__(House, Bike) \n",
    "            self.Car = Car # Adding new attribute\n",
    "        def assets_of_child1(self):\n",
    "            self.show_assets() # Reuse the Parent's method\n",
    "            print(f\"Child1's New Asset: Car={self.Car}\")\n",
    "class Child2(Parent):\n",
    "    def __init__(self,House,Bike,Watch):\n",
    "        super().__init__(House,Bike)\n",
    "        self.Watch=Watch\n",
    "    def assets_of_child2(self):\n",
    "            self.show_assets() # Reuse the Parent's method\n",
    "            print(f\"Child2's New Asset: Watch={self.Watch}\")\n",
    "        \n",
    "# Creating an instance\n",
    "obj1=Parent('Duplex','Royal Enfield')\n",
    "obj1.show_assets()\n",
    "print(f\"-----Parent class is printed successfully-----\")\n",
    "obj2 = Child1('Bungalow', 'Harley Davidson', 'Tesla')\n",
    "obj2.assets_of_child1()\n",
    "print(f\"-----Child1 class is printed successfully------\")\n",
    "\n",
    "obj3 = Child2('Villah', 'Suzuki','Rolex')\n",
    "obj3.assets_of_child2()\n",
    "print(f\"-----Child2 class is printed successfully------\")"
   ]
  },
  {
   "cell_type": "code",
   "execution_count": 53,
   "id": "1b838a89-612d-461c-ae87-b03b5b4cf3a2",
   "metadata": {},
   "outputs": [
    {
     "name": "stdout",
     "output_type": "stream",
     "text": [
      "Mom's Assets: House=Duplex, Bike=Royal Enfield\n",
      "Dad's Assets: Money=10 Million, Car=Tesla Model S\n",
      "Child1's New Gift: Watch=Rolex\n",
      "Child2's New Gift: Bracelet=Platinum\n"
     ]
    }
   ],
   "source": [
    "#5.Hybrid Inheritance:Combination of Multiple and Multilevel Inheritances\n",
    "class Mom:\n",
    "    def __init__(self, House, Bike):\n",
    "        self.House = House\n",
    "        self.Bike = Bike\n",
    "    \n",
    "    def mom_gift(self):\n",
    "        print(f\"Mom's Assets: House={self.House}, Bike={self.Bike}\")\n",
    "class Dad:\n",
    "    def __init__(self, Money, Car):\n",
    "        self.Money = Money\n",
    "        self.Car = Car\n",
    "    \n",
    "    def dad_gift(self):\n",
    "        print(f\"Dad's Assets: Money={self.Money}, Car={self.Car}\")\n",
    "\n",
    "class Child1(Mom, Dad): \n",
    "    def __init__(self, House, Bike, Money, Car, Watch):\n",
    "        Mom.__init__(self, House, Bike)\n",
    "        Dad.__init__(self, Money, Car)\n",
    "        self.Watch = Watch\n",
    "\n",
    "    def show_child1_gifts(self):\n",
    "       # print(\"--- Inherited Gifts ---\")\n",
    "        self.mom_gift()\n",
    "        self.dad_gift()\n",
    "        print(f\"Child1's New Gift: Watch={self.Watch}\")\n",
    "\n",
    "#child_obj = Child('Duplex', 'Royal Enfield', '10 Million', 'Tesla Model S', 'Rolex')\n",
    "#child_obj.show_child1_gifts()\n",
    "class Child2(Child1):\n",
    "    def __init__(self, House, Bike, Money, Car, Watch,Bracelet):\n",
    "         Mom.__init__(self, House, Bike)\n",
    "         Dad.__init__(self, Money, Car)\n",
    "         Child1.__init__(self,House,Bike,Money,Car,Watch)\n",
    "         self.Bracelet=Bracelet\n",
    "    def show_child2_gifts(self):\n",
    "        self.show_child1_gifts()\n",
    "        print(f\"Child2's New Gift: Bracelet={self.Bracelet}\")\n",
    "obj_child2=Child2('Duplex', 'Royal Enfield', '10 Million', 'Tesla Model S', 'Rolex','Platinum')\n",
    "obj_child2.show_child2_gifts()\n"
   ]
  },
  {
   "cell_type": "code",
   "execution_count": 54,
   "id": "d5fbe98b-6660-4e3c-b455-9aee70c6819c",
   "metadata": {},
   "outputs": [
    {
     "name": "stdout",
     "output_type": "stream",
     "text": [
      "Sum of 2 integers: 30\n",
      "Sum of 2 doubles: 10.0\n",
      "Sum of 3 integers: 6\n"
     ]
    }
   ],
   "source": [
    "#task3: write code for over riding & overloading\n",
    "#---Method Overloading\n",
    "class Calculator:\n",
    "    def add(self, *args):\n",
    "        return sum(args)\n",
    "\n",
    "# Usage\n",
    "calc = Calculator()\n",
    "print(\"Sum of 2 integers:\", calc.add(10, 20))\n",
    "print(\"Sum of 2 doubles:\", calc.add(5.5, 4.5))\n",
    "print(\"Sum of 3 integers:\", calc.add(1, 2, 3))\n"
   ]
  },
  {
   "cell_type": "code",
   "execution_count": 55,
   "id": "232cb0b1-f182-4977-8a4c-f409d545fdf4",
   "metadata": {},
   "outputs": [
    {
     "name": "stdout",
     "output_type": "stream",
     "text": [
      "Animal makes a sound\n",
      "Dog barks\n"
     ]
    }
   ],
   "source": [
    "#Method Overriding\n",
    "class Animal:\n",
    "    def sound(self):\n",
    "        print(\"Animal makes a sound\")\n",
    "\n",
    "class Dog(Animal):\n",
    "    # Overriding parent class method\n",
    "    def sound(self):\n",
    "        print(\"Dog barks\")\n",
    "\n",
    "# Usage\n",
    "a = Animal()\n",
    "a.sound()   # Calls Animal's sound()\n",
    "\n",
    "b = Dog()\n",
    "b.sound()   # Calls Dog's overridden sound()"
   ]
  },
  {
   "cell_type": "code",
   "execution_count": null,
   "id": "e3bef29c-7cac-494c-b2ff-6a8ef032f3a7",
   "metadata": {},
   "outputs": [],
   "source": []
  }
 ],
 "metadata": {
  "kernelspec": {
   "display_name": "Python 3 (ipykernel)",
   "language": "python",
   "name": "python3"
  },
  "language_info": {
   "codemirror_mode": {
    "name": "ipython",
    "version": 3
   },
   "file_extension": ".py",
   "mimetype": "text/x-python",
   "name": "python",
   "nbconvert_exporter": "python",
   "pygments_lexer": "ipython3",
   "version": "3.10.9"
  }
 },
 "nbformat": 4,
 "nbformat_minor": 5
}
