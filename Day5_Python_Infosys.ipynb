{
 "cells": [
  {
   "cell_type": "code",
   "execution_count": 1,
   "id": "a28f96c5-8f8e-4033-9621-0af18df122b0",
   "metadata": {},
   "outputs": [
    {
     "name": "stdin",
     "output_type": "stream",
     "text": [
      "Enter a number:  24\n"
     ]
    },
    {
     "name": "stdout",
     "output_type": "stream",
     "text": [
      "Factorial of 24 is: 620448401733239439360000\n",
      "Fibonacci series up to 24 terms:\n",
      "0 1 1 2 3 5 8 13 21 34 55 89 144 233 377 610 987 1597 2584 4181 6765 10946 17711 28657 "
     ]
    }
   ],
   "source": [
    "#Task1: Program to write code for fibonacci & factorial of a number using recursive functions\n",
    "def factorial(n):\n",
    "    if n == 0 or n == 1:\n",
    "        return 1\n",
    "    else:\n",
    "        return n * factorial(n - 1)\n",
    "#Fibonacci Series\n",
    "def fibonacci(n):\n",
    "    if n <= 0:\n",
    "        return \"Invalid input\"\n",
    "    elif n == 1:\n",
    "        return 0\n",
    "    elif n == 2:\n",
    "        return 1\n",
    "    else:\n",
    "        return fibonacci(n - 1) + fibonacci(n - 2)\n",
    "num = int(input(\"Enter a number: \"))\n",
    "print(f\"Factorial of {num} is: {factorial(num)}\")\n",
    "print(f\"Fibonacci series up to {num} terms:\")\n",
    "for i in range(1, num + 1):\n",
    "    print(fibonacci(i), end=\" \")\n",
    "    \n"
   ]
  },
  {
   "cell_type": "code",
   "execution_count": 8,
   "id": "02555546-478a-41a4-abe7-6b5182a228f4",
   "metadata": {},
   "outputs": [
    {
     "name": "stdout",
     "output_type": "stream",
     "text": [
      "Directory 'Infosys_Python_sample_folder' created\n",
      "Changed to directory: C:\\Users\\Admin\n",
      "Sub-directory 'Infosys_sample_folder2' created\n",
      "Contents of current directory: ['.ai-navigator', '.anaconda', '.conda', '.condarc', '.continuum', '.gitconfig', '.idlerc', '.ipynb_checkpoints', '.ipython', '.jupyter', '.keras', '.matplotlib', '.vscode', '3D Objects', 'anaconda3', 'AppData', 'Application Data', 'Arrayinput.java', 'Batch_3.txt', 'Contacts', 'Cookies', 'Day4_Infosys_Python.ipynb', 'Day_3_Infosys_Python(Tasks).ipynb', 'Documents', 'Downloads', 'Favorites', 'Infosys_Python_sample_folder', 'Infosys_Task.txt', 'IntelGraphicsProfiles', 'Links', 'Local Settings', 'Main.java', 'Music', 'My Documents', 'NetHood', 'NTUSER.DAT', 'ntuser.dat.LOG1', 'ntuser.dat.LOG2', 'NTUSER.DAT{53b39e88-18c4-11ea-a811-000d3aa4692b}.TM.blf', 'NTUSER.DAT{53b39e88-18c4-11ea-a811-000d3aa4692b}.TMContainer00000000000000000001.regtrans-ms', 'NTUSER.DAT{53b39e88-18c4-11ea-a811-000d3aa4692b}.TMContainer00000000000000000002.regtrans-ms', 'ntuser.ini', 'OneDrive', 'PDFEditor', 'Personal-notes-manager.py', 'PrintHood', 'Python_Infosys_Day2.ipynb', 'Python_Infosys_Day5.ipynb', 'Recent', 'Saved Games', 'Scanner.java', 'Searches', 'SendTo', 'Smart Sorting project.py', 'Start Menu', 'Templates', 'test-app', 'Untitled.ipynb', 'Untitled1.ipynb', 'Untitled2.ipynb', 'Videos']\n",
      "Back to directory: C:\\Users\n",
      "All created directories removed successfully\n"
     ]
    }
   ],
   "source": [
    "# Task 2: Example code using OS module\n",
    "import os\n",
    "# Create a new directory\n",
    "#os.mkdir(\"Infosys_Python_sample_folder\")\n",
    "print(\"Directory 'Infosys_Python_sample_folder' created\")\n",
    "\n",
    "# Change current working directory\n",
    "#os.chdir(\"Infosys_sample_folder2\")\n",
    "print(\"Changed to directory:\", os.getcwd())\n",
    "\n",
    "# Create another directory inside it\n",
    "os.mkdir(\"Infosys_sample_folder2\")\n",
    "print(\"Sub-directory 'Infosys_sample_folder2' created\")\n",
    "\n",
    "# List all directories and files in current folder\n",
    "print(\"Contents of current directory:\", os.listdir())\n",
    "# Go back to parent directory\n",
    "os.chdir(\"..\")\n",
    "print(\"Back to directory:\", os.getcwd())\n",
    "# Remove the created folders using rmdir\n",
    "os.rmdir(\"Infosys_Python_sample_folder/Infosys_sample_folder2\")\n",
    "os.rmdir(\"Infosys_sample_folder2\")\n",
    "print(\"All created directories removed successfully\")"
   ]
  },
  {
   "cell_type": "code",
   "execution_count": 9,
   "id": "5ad7138d-f7c8-441f-a1cc-4db4c94217ea",
   "metadata": {},
   "outputs": [
    {
     "name": "stdout",
     "output_type": "stream",
     "text": [
      "Random float between 0 and 1: 0.017510607331777894\n",
      "Random integer between 10 and 50: 25\n",
      "Random number from range 0 to 100 with step 5: 0\n",
      "Random choice from list: 45\n",
      "Original list: [23, 45, 9, 231, 18]\n",
      "Shuffled list: [23, 231, 18, 45, 9]\n"
     ]
    }
   ],
   "source": [
    "#Task 2: Example code using RANDOM module\n",
    "import random\n",
    "# 1. random() --generates random \n",
    "print(\"Random float between 0 and 1:\", random.random())\n",
    "\n",
    "# 2. randint(a, b) --random integer between a and b (inclusive)\n",
    "print(\"Random integer between 10 and 50:\", random.randint(10, 50))\n",
    "\n",
    "# 3. randrange(start, stop, step) --random number from range\n",
    "print(\"Random number from range 0 to 100 with step 5:\", random.randrange(0, 100, 5))\n",
    "\n",
    "# 4. choice(sequence) -- random element from list\n",
    "numbers = [23, 45, 9, 231, 18]\n",
    "print(\"Random choice from list:\", random.choice(numbers))\n",
    "\n",
    "# 5. shuffle(sequence) -> randomly reorder elements\n",
    "print(\"Original list:\", numbers)\n",
    "random.shuffle(numbers)\n",
    "print(\"Shuffled list:\", numbers)"
   ]
  },
  {
   "cell_type": "code",
   "execution_count": 12,
   "id": "1e381189-d580-427f-852a-c6c0be82eb25",
   "metadata": {},
   "outputs": [
    {
     "name": "stdout",
     "output_type": "stream",
     "text": [
      "PI value: 3.141592653589793\n",
      "Euler's number (e): 2.718281828459045\n",
      "\n",
      "Trigonometric values for 60°:\n",
      "sin: 0.8660254037844386\n",
      "cos: 0.5000000000000001\n",
      "tan: 1.7320508075688767\n",
      "Square root of 16: 4.0\n",
      "2 raised to power 5: 32.0\n",
      "Natural log of e: 1.0\n",
      "Log base 10 of 1000: 3.0\n",
      "Exponential of 2: 7.38905609893065\n",
      "Ceil of 5.3: 6\n",
      "Floor of 5.9: 5\n"
     ]
    }
   ],
   "source": [
    "# Task 2: Example code for Math Module\n",
    "import math\n",
    "print(\"PI value:\", math.pi)\n",
    "print(\"Euler's number (e):\", math.e)\n",
    "#Trigonometric functions\n",
    "angle_deg = 60\n",
    "angle_rad = math.radians(angle_deg)   # converting degrees to radians\n",
    "print(f\"\\nTrigonometric values for {angle_deg}°:\")\n",
    "print(\"sin:\", math.sin(angle_rad))\n",
    "print(\"cos:\", math.cos(angle_rad))\n",
    "print(\"tan:\", math.tan(angle_rad))\n",
    "\n",
    "# Logarithmic & power functions\n",
    "print(\"Square root of 16:\", math.sqrt(16))\n",
    "print(\"2 raised to power 5:\", math.pow(2, 5))\n",
    "print(\"Natural log of e:\", math.log(math.e))\n",
    "print(\"Log base 10 of 1000:\", math.log10(1000))\n",
    "print(\"Exponential of 2:\", math.exp(2))  \n",
    "# Representation functions\n",
    "print(\"Ceil of 5.3:\", math.ceil(5.3))\n",
    "print(\"Floor of 5.9:\", math.floor(5.9))"
   ]
  },
  {
   "cell_type": "code",
   "execution_count": 14,
   "id": "55dc7fc2-40b1-4993-93cf-c4b651d09e70",
   "metadata": {},
   "outputs": [
    {
     "name": "stdout",
     "output_type": "stream",
     "text": [
      "List of squares: [1, 4, 9, 16, 25]\n",
      "Tuple of cubes: (1, 8, 27, 64, 125)\n",
      "Word lengths: {'apple': 5, 'banana': 6, 'cherry': 6}\n"
     ]
    }
   ],
   "source": [
    "#Task3: list, tuple & dictionary comprehensions. runtime arguments with *args **kwargs\n",
    "squares = [x**2 for x in range(1, 6)]\n",
    "print(\"List of squares:\", squares)\n",
    "#Tuple\n",
    "cubes = tuple(x**3 for x in range(1, 6))\n",
    "print(\"Tuple of cubes:\", cubes)\n",
    "#dictionary\n",
    "words = [\"apple\", \"banana\", \"cherry\"] #Converting words into lengths\n",
    "length_dict = {key: len(key) for key in words}\n",
    "print(\"Word lengths:\", length_dict)"
   ]
  },
  {
   "cell_type": "code",
   "execution_count": 16,
   "id": "49930fbf-8d4f-4778-aff0-62eebbf989f2",
   "metadata": {},
   "outputs": [
    {
     "name": "stdout",
     "output_type": "stream",
     "text": [
      "Numbers: (2, 4, 6, 8)\n",
      "Sum: 20\n",
      "Details Dictionary: {'name': 'Ajay', 'age': 21, 'course': 'Python'}\n",
      "name: Ajay\n",
      "age: 21\n",
      "course: Python\n",
      "Args: (1, 2, 3)\n",
      "Kwargs: {'name': 'Ajay', 'lang': 'Python', 'height': 5.8}\n"
     ]
    }
   ],
   "source": [
    "#Task 3: Runtime arguments with *args and **kwargs\n",
    "def add_numbers(*args): #using only *args\n",
    "    total = sum(args)\n",
    "    print(\"Numbers:\", args)\n",
    "    print(\"Sum:\", total)\n",
    "add_numbers(2, 4, 6, 8)\n",
    "def Profile(**kwargs): #using only **kwargs\n",
    "    print(\"Details Dictionary:\", kwargs)\n",
    "    for key, value in kwargs.items():\n",
    "        print(f\"{key}: {value}\")\n",
    "Profile(name=\"Ajay\", age=21, course=\"Python\")\n",
    "def mixed_example(*args, **kwargs):\n",
    "    print(\"Args:\", args)\n",
    "    print(\"Kwargs:\", kwargs)\n",
    "mixed_example(1, 2, 3, name=\"Ajay\", lang=\"Python\",height=5.8)"
   ]
  },
  {
   "cell_type": "code",
   "execution_count": null,
   "id": "5191f995-2e6d-4287-a24c-ab02b774f2cf",
   "metadata": {},
   "outputs": [],
   "source": []
  }
 ],
 "metadata": {
  "kernelspec": {
   "display_name": "Python 3 (ipykernel)",
   "language": "python",
   "name": "python3"
  },
  "language_info": {
   "codemirror_mode": {
    "name": "ipython",
    "version": 3
   },
   "file_extension": ".py",
   "mimetype": "text/x-python",
   "name": "python",
   "nbconvert_exporter": "python",
   "pygments_lexer": "ipython3",
   "version": "3.10.9"
  }
 },
 "nbformat": 4,
 "nbformat_minor": 5
}
