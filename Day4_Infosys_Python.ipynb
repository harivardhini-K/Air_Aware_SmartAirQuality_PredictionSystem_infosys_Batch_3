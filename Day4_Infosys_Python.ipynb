{
 "cells": [
  {
   "cell_type": "code",
   "execution_count": 1,
   "id": "665323ff-df3b-4527-ae3c-733764149781",
   "metadata": {},
   "outputs": [
    {
     "name": "stdin",
     "output_type": "stream",
     "text": [
      "Enter first number:  24\n",
      "Enter second number:  6\n",
      "Enter operator (+, -, *, /, %, //, **):  +\n"
     ]
    },
    {
     "name": "stdout",
     "output_type": "stream",
     "text": [
      "Result: 30.0\n"
     ]
    }
   ],
   "source": [
    "# Task 1: Calculator with 7 operators using if-elif-else\n",
    "num1 = float(input(\"Enter first number: \"))\n",
    "num2 = float(input(\"Enter second number: \"))\n",
    "op = input(\"Enter operator (+, -, *, /, %, //, **): \")\n",
    "# Checking operator and performing calculation\n",
    "if op == '+':\n",
    "    print(\"Result:\", num1 + num2)\n",
    "elif op == '-':\n",
    "    print(\"Result:\", num1 - num2)\n",
    "elif op == '*':\n",
    "    print(\"Result:\", num1 * num2)\n",
    "elif op == '/':\n",
    "    if num2 != 0:\n",
    "        print(\"Result:\", num1 / num2)\n",
    "    else:\n",
    "        print(\"Error: Division by zero\")\n",
    "elif op == '%':\n",
    "    if num2 != 0:\n",
    "        print(\"Result:\", num1 % num2)\n",
    "    else:\n",
    "        print(\"Error: Division by zero\")\n",
    "elif op == '//':\n",
    "    if num2 != 0:\n",
    "        print(\"Result:\", num1 // num2)\n",
    "    else:\n",
    "        print(\"Error: Division by zero\")\n",
    "elif op == '':\n",
    "    print(\"Result:\", num1 ** num2)\n",
    "else:\n",
    "    print(\"Invalid operator!\")"
   ]
  },
  {
   "cell_type": "code",
   "execution_count": 19,
   "id": "91ecde43-184c-47b4-bf82-83e7b93ddba1",
   "metadata": {},
   "outputs": [
    {
     "name": "stdout",
     "output_type": "stream",
     "text": [
      "No.of orders received 10\n",
      "No.of orders received 20\n",
      "No.of orders received 30\n",
      "No.of orders received 40\n",
      "No.of orders received 50\n",
      "Characters of Ramayana are 1 : Ram\n",
      "Characters of Ramayana are 2 : Sita\n",
      "Characters of Ramayana are 3 : Lakshman\n",
      "Characters of Ramayana are 4 : Ravan\n",
      "Values in the set are: 400\n",
      "Values in the set are: 100\n",
      "Values in the set are: 500\n",
      "Values in the set are: 200\n",
      "Values in the set are: 600\n",
      "Values in the set are: 300\n"
     ]
    }
   ],
   "source": [
    "#Task 2: For loop using tuple, dictionary, set\n",
    "for i in (10,20,30,40,50):\n",
    "     print(\"No.of orders received\",i)\n",
    "dict={1:\"Ram\",2:\"Sita\",3:\"Lakshman\",4:\"Ravan\"}\n",
    "for key,value in dict.items():\n",
    "    print(\"Characters of Ramayana are\",key,\":\",value)\n",
    "set={100,200,300,400,500,600}\n",
    "for i in set:\n",
    "    print(\"Values in the set are:\",i)\n"
   ]
  },
  {
   "cell_type": "code",
   "execution_count": null,
   "id": "26d2227a-5899-4c4c-9264-3b68ecdefb4d",
   "metadata": {},
   "outputs": [],
   "source": []
  },
  {
   "cell_type": "code",
   "execution_count": 7,
   "id": "c0dd351b-f749-4935-b03a-d63575a0d5f2",
   "metadata": {},
   "outputs": [
    {
     "name": "stdin",
     "output_type": "stream",
     "text": [
      "Enter first number:  2\n",
      "Enter second number:  3\n",
      "Enter operator (+, -, *, /, %, //, **):  **\n"
     ]
    },
    {
     "name": "stdout",
     "output_type": "stream",
     "text": [
      "EXPONENTIAL: 8.0\n"
     ]
    }
   ],
   "source": [
    "#task3-design calculator using structural pattern\n",
    "n1 = float(input(\"Enter first number: \"))\n",
    "n2 = float(input(\"Enter second number: \"))\n",
    "op = input(\"Enter operator (+, -, *, /, %, //, **): \")\n",
    "match op:\n",
    "    case \"+\":\n",
    "        print(\"ADDITION:\",n1+n2)\n",
    "    case \"-\":\n",
    "        print(\"SUB:\",n1-n2)\n",
    "    case \"*\":\n",
    "        print(\"MUL:\",n1*n2)\n",
    "    case \"/\":\n",
    "        print(\"DIV:\",n1/n2)     \n",
    "    case \"%\":\n",
    "        print(\"MODULO DIVISION:\",n1%n2)\n",
    "    case \"//\":\n",
    "        print(\"FLOOR DIVISION:\",n1//n2)\n",
    "    case \"**\":\n",
    "        print(\"EXPONENTIAL:\",n1**n2)\n",
    "    case _:\n",
    "         print(\"Invalid\")"
   ]
  },
  {
   "cell_type": "code",
   "execution_count": 51,
   "id": "76008781-8412-4ce9-873a-45e2bbf114b7",
   "metadata": {},
   "outputs": [
    {
     "name": "stdout",
     "output_type": "stream",
     "text": [
      "Hello World!\n",
      "This is Task 4.\n",
      "Successfully completed the task.\n",
      "\n",
      "[]\n",
      "10\n",
      "10\n",
      "35\n",
      "\n",
      "Reading using readlines():\n",
      "['Complete the task before next class']\n"
     ]
    }
   ],
   "source": [
    "#task4-write all file concept commands\n",
    "import os\n",
    "f=open(\"Batch_3.txt\",\"w+\")\n",
    "os.getcwd()\n",
    "# \"w\" overwrites existing file\n",
    "f.write(\"Hello World!\\n\")\n",
    "f.write(\"This is Task 4.\\n\")\n",
    "f.close()\n",
    "f = open(\"Batch_3.txt\", \"a\")   # \"a\" appends without overwriting\n",
    "f.write(\"Successfully completed the task.\\n\")\n",
    "f.close()\n",
    "f=open(\"Batch_3.txt\",\"r\") #For READING &\"r+\" is for both reading and writing\n",
    "data=f.read() \n",
    "print(data)\n",
    "print(f.readlines()) \n",
    "print(f.seek(10))\n",
    "print(f.tell())\n",
    "file2=open(\"Infosys_Task.txt\",\"w+\")\n",
    "print(file2.write(\"Complete the task before next class\"))\n",
    "with open(\"Infosys_Task.txt\", \"r\") as f:\n",
    "    print(\"\\nReading using readlines():\")\n",
    "    print(f.readlines())\n",
    "#os.remove(\"Infosys_Task.txt\")\n",
    "\n",
    "\n",
    "\n"
   ]
  },
  {
   "cell_type": "code",
   "execution_count": null,
   "id": "0256e4aa-5341-43e5-a8fb-72632d52a8bb",
   "metadata": {},
   "outputs": [],
   "source": []
  },
  {
   "cell_type": "code",
   "execution_count": null,
   "id": "bee7a9fe-b235-4b13-83fc-f983ac93690d",
   "metadata": {},
   "outputs": [],
   "source": []
  }
 ],
 "metadata": {
  "kernelspec": {
   "display_name": "Python 3 (ipykernel)",
   "language": "python",
   "name": "python3"
  },
  "language_info": {
   "codemirror_mode": {
    "name": "ipython",
    "version": 3
   },
   "file_extension": ".py",
   "mimetype": "text/x-python",
   "name": "python",
   "nbconvert_exporter": "python",
   "pygments_lexer": "ipython3",
   "version": "3.10.9"
  }
 },
 "nbformat": 4,
 "nbformat_minor": 5
}
